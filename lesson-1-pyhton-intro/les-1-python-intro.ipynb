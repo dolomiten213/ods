{
 "cells": [
  {
   "cell_type": "code",
   "execution_count": null,
   "metadata": {},
   "outputs": [
    {
     "ename": "KeyboardInterrupt",
     "evalue": "",
     "output_type": "error",
     "traceback": [
      "\u001b[1;31m---------------------------------------------------------------------------\u001b[0m",
      "\u001b[1;31mKeyboardInterrupt\u001b[0m                         Traceback (most recent call last)",
      "\u001b[1;32md:\\Code\\Python\\data-science\\ods\\lesson-1-pyhton-intro\\les-1-python-intro.ipynb Cell 1'\u001b[0m in \u001b[0;36m<module>\u001b[1;34m\u001b[0m\n\u001b[0;32m      <a href='vscode-notebook-cell:/d%3A/Code/Python/data-science/ods/lesson-1-pyhton-intro/les-1-python-intro.ipynb#ch0000000?line=2'>3</a>\u001b[0m \u001b[39mwhile\u001b[39;00m i \u001b[39m<\u001b[39m\u001b[39m=\u001b[39m \u001b[39m1_000_000_002\u001b[39m:\n\u001b[0;32m      <a href='vscode-notebook-cell:/d%3A/Code/Python/data-science/ods/lesson-1-pyhton-intro/les-1-python-intro.ipynb#ch0000000?line=3'>4</a>\u001b[0m   \u001b[39mif\u001b[39;00m (i \u001b[39m%\u001b[39m \u001b[39m10\u001b[39m \u001b[39m!=\u001b[39m \u001b[39m4\u001b[39m \u001b[39mand\u001b[39;00m i \u001b[39m%\u001b[39m \u001b[39m10\u001b[39m \u001b[39m!=\u001b[39m \u001b[39m7\u001b[39m): \u001b[39msum\u001b[39m \u001b[39m+\u001b[39m\u001b[39m=\u001b[39m i\n\u001b[1;32m----> <a href='vscode-notebook-cell:/d%3A/Code/Python/data-science/ods/lesson-1-pyhton-intro/les-1-python-intro.ipynb#ch0000000?line=4'>5</a>\u001b[0m   i \u001b[39m+\u001b[39m\u001b[39m=\u001b[39m \u001b[39m3\u001b[39m\n",
      "\u001b[1;31mKeyboardInterrupt\u001b[0m: "
     ]
    }
   ],
   "source": [
    "sum = 0\n",
    "i = 0\n",
    "while i <= 1_000_000_002:\n",
    "  if (i % 10 != 4 and i % 10 != 7): sum += i\n",
    "  i += 3"
   ]
  },
  {
   "cell_type": "code",
   "execution_count": null,
   "metadata": {},
   "outputs": [
    {
     "name": "stdout",
     "output_type": "stream",
     "text": [
      "133333334466666672\n"
     ]
    }
   ],
   "source": [
    "print (sum)"
   ]
  },
  {
   "cell_type": "code",
   "execution_count": null,
   "metadata": {},
   "outputs": [],
   "source": [
    "def parse_line(line):\n",
    "  a = line.replace('\\n', '').split('    ')\n",
    "  return a[0], int(a[1]), int(a[2])\n",
    "\n",
    "def calc_res(todo, first, second):\n",
    "  if (todo == '+'): return first + second\n",
    "  if (todo == '-'): return first - second\n",
    "  if (todo == '*'): return first * second\n",
    "  if (todo == '//'): return first // second\n",
    "  if (todo == '%'): return first % second\n",
    "  if (todo == '**'): return first ** second\n",
    "\n",
    "isFirstInsert = True;\n",
    "with open('input_file.txt', 'r') as file:\n",
    "  with open('real-res.txt', 'w+') as res:\n",
    "    for line in file.readlines():\n",
    "      if (isFirstInsert):\n",
    "        isFirstInsert = False\n",
    "      else:\n",
    "        res.write(',')\n",
    "      res.write(str(calc_res(*parse_line(line))))\n"
   ]
  },
  {
   "cell_type": "code",
   "execution_count": null,
   "metadata": {},
   "outputs": [
    {
     "name": "stdout",
     "output_type": "stream",
     "text": [
      "True\n",
      "True\n"
     ]
    }
   ],
   "source": [
    "\n",
    "def compare_files(file1, file2):\n",
    "  with open(file1, 'r') as file_1:\n",
    "    with open(file2, 'r') as file_2:\n",
    "      for line in file_1.readlines():\n",
    "        if (file_2.readline() != line): return False\n",
    "      return True\n",
    "\n",
    "print(compare_files('test_output_file_1.txt', 'res.txt'))\n",
    "print(compare_files('res.txt', 'test_output_file_1.txt'))"
   ]
  },
  {
   "cell_type": "code",
   "execution_count": null,
   "metadata": {},
   "outputs": [],
   "source": [
    "def parse_line(line):\n",
    "  a = line.split(' ')\n",
    "  return int(a[0]), int(a[1])\n",
    "\n",
    "isFirstInsert = True;\n",
    "with open('import_file_2_1.txt', 'r') as string_file:\n",
    "  with open('import_file_2_2.txt', 'r') as digits_file:\n",
    "    with open('real-res2.txt', 'w+') as result_file:\n",
    "      for line in string_file.readlines():\n",
    "        if (isFirstInsert):\n",
    "          isFirstInsert = False\n",
    "        else:\n",
    "          result_file.write(' ')\n",
    "        fr, to = parse_line(digits_file.readline())\n",
    "        result_file.writelines(line[fr:to+1])\n"
   ]
  },
  {
   "cell_type": "code",
   "execution_count": null,
   "metadata": {},
   "outputs": [
    {
     "name": "stdout",
     "output_type": "stream",
     "text": [
      "True\n",
      "True\n"
     ]
    }
   ],
   "source": [
    "print(compare_files('test_output_file_2.txt', 'res2.txt'))\n",
    "print(compare_files('res2.txt', 'test_output_file_2.txt'))"
   ]
  },
  {
   "cell_type": "code",
   "execution_count": 5,
   "metadata": {},
   "outputs": [
    {
     "name": "stdout",
     "output_type": "stream",
     "text": [
      "ХромКобальтРадийЛитийБорийМарганецМенделевийСамарийНихонийСвинецКальцийУранУранМолибденИридийПолонийЕвропийУглеродПрометийПолонийРубидийПлутонийОсмийЛоуренсийАргонКюрийПалладийЦерийАзотБерклийБарийЛантанМедьМышьякКалифорнийПразеодимКадмийБарийНеодимАлюминийАлюминийРутенийБарийТаллийФлеровийУнуненнийТеннессинРадонЦерийХромГафнийПрометийЛантанСвинецМенделевийКалифорнийБромБерклийПразеодимГадолинийЭйнштейнийУранКалифорнийНеонМагнийСамарийЛантанБорийЛютецийДармштадтийМолибденСамарийАлюминийКислородСвинецДубнийМедьЦерийЭйнштейнийЭйнштейнийКсенонКальцийМенделевийГелийСурьмаЛиверморийТорийАстатФторРутенийНиобийПразеодимЛитийМедьЛантанНикельИттербийМенделевийХлорАргонПрометийАктинийТулийГадолинийАстатЛиверморийСтронцийНеодимСкандийТулийФторМагнийУнуненнийТеннессинПалладийБромСамарийРутенийКислородТеллурАктинийЛютецийХассийТулийУнуненнийИттербийМарганецУглеродГафнийДиспрозийСвинецРадийСеленПрометийГафнийАлюминийКалийАзотИттрийРтутьПразеодимКсенонВольфрамВодородТеннессинАстатХассийГерманийМышьякРазерфордийПолонийТаллийСераМолибденЛиверморийРтутьМосковийРутенийУглеродТеннессинЛоуренсийХассийПолонийРодийИттербийМышьякЭрбийТулийЙодТитанАлюминийСиборгийАзотФторВанадийНептунийМедьКадмийСамарийАстатЖелезоНеодимГалийФторЛитийБромИндийБорийОсмийЕвропийНиобийЛитийИридийФлеровийМолибденФлеровийМедьЛантанМосковийКалийСеленНикельКадмийКюрийМышьякСераСеленТулийФранцийПолонийНикельТеллурСтронцийМолибденЭрбийПлатинаНобелийВанадийИндийГадолинийТулийТитанОсмийПразеодимБорийКюрийАмерицийКислородСиборгийСтронцийСтронцийТеллурНатрийСкандийКремнийЭрбийРубидийПразеодимТеллурХлорПолонийАргонСамарийАргонЛютецийОловоСтронцийЗолотоФосфорГафнийТанталНептунийОганесонАргонКоперницийДиспрозийЛантанСамарийКобальтСурьмаКремнийБорийТербийТербийКюрийСераЭрбийИттербийКобальтБорийЭйнштейнийКальцийЭрбийГольмийГелийАлюминийТеннессинХлорРадийБериллийРубидийРенийГольмийТулийОловоТехнецийГадолинийБерклийЖелезоНептунийКальцийНикельНобелийТаллийМагнийМагнийЛантанНиобийНикельАстатМейтнерийРадийНиобийОганесонХлорДармштадтийКриптонГелийТербийРадийФосфорКадмийАзотЛитийПалладийБромЦинкЦинкБерклийКремнийЙодЦерийВисмутВисмутКалийБорЭрбийФранцийБерклийКсенонЦинкГадолинийЭрбийНеонРенгенийГалийРенгенийГелийРенгенийФермийКоперницийТаллийРтутьГалийНиобийНихонийПалладийЛоуренсийКалийНатрийКриптонКоперницийАмерицийЭрбийГерманийГадолинийТорийТулийУглеродСеленРенгенийБорийДубнийДиспрозийВольфрамКалифорнийСамарийФлеровийБорНеонКислородБерклийПрометийУнуненнийПразеодимКоперницийЦерийТитанБерклийФторУнуненнийКадмийКислородИттербийИттербийЛитийЕвропийЭйнштейнийБерклийРтутьГадолинийЛитийМосковийНептунийИттрийГафнийХлорЖелезоМейтнерийКальцийКсенонНикельЭрбийРенгенийГольмийНикельТербийРадийЙодМедьТулийМагнийКобальтМагнийКадмийБорийЦерийКоперницийНеонУранАргонФранцийВанадийЭрбийРодийЗолотоНептунийНептунийНептунийГерманийКоперницийЛиверморийЛантанСтронцийИридийЛютецийКалифорнийИттербийФлеровийАктинийУранКалифорнийИндийБорСурьмаАмерицийСтронцийБромКобальтВанадийКремнийИндийСамарийОсмийТеллурПлатинаМолибденРазерфордийЦинкТанталВодородПалладийСеленЗолотоВанадийМышьякРтутьТеллурКсенонМагнийНиобийУнуненнийМейтнерийИттрийДубнийКислородГадолинийКриптонКсенонФермийФторГафнийРадонГелийМолибденДармштадтийКоперницийМейтнерийОсмийВисмутПолонийСтронцийАзотПалладийРенгенийКриптонКалийКриптонГафнийФтор\n"
     ]
    }
   ],
   "source": [
    "import json\n",
    "\n",
    "def split_to_elements(line):\n",
    "  i = 0\n",
    "  res = ''\n",
    "  periodic_table = json.load(open('periodic_table.json', encoding='utf-8'))\n",
    "  while i < len(line):\n",
    "    if (i == len(line) - 1):\n",
    "      res += periodic_table[line[i]]\n",
    "      break\n",
    "\n",
    "    if (line[i].isupper()):\n",
    "      j = i + 1\n",
    "      while line[j].islower():\n",
    "        j += 1\n",
    "      res += periodic_table[line[i:j]]\n",
    "      i = j\n",
    "\n",
    "  return res\n",
    "\n",
    "print(split_to_elements('CrCoRaLiBhMnMdSmNhPbCaUUMoIrPoEuCPmPoRbPuOsLrArCmPdCeNBkBaLaCuAsCfPrCdBaNdAlAlRuBaTlFlUueTsRnCeCrHfPmLaPbMdCfBrBkPrGdEsUCfNeMgSmLaBhLuDsMoSmAlOPbDbCuCeEsEsXeCaMdHeSbLvThAtFRuNbPrLiCuLaNiYbMdClArPmAcTmGdAtLvSrNdScTmFMgUueTsPdBrSmRuOTeAcLuHsTmUueYbMnCHfDyPbRaSePmHfAlKNYHgPrXeWHTsAtHsGeAsRfPoTlSMoLvHgMcRuCTsLrHsPoRhYbAsErTmITiAlSgNFVNpCuCdSmAtFeNdGaFLiBrInBhOsEuNbLiIrFlMoFlCuLaMcKSeNiCdCmAsSSeTmFrPoNiTeSrMoErPtNoVInGdTmTiOsPrBhCmAmOSgSrSrTeNaScSiErRbPrTeClPoArSmArLuSnSrAuPHfTaNpOgArCnDyLaSmCoSbSiBhTbTbCmSErYbCoBhEsCaErHoHeAlTsClRaBeRbReHoTmSnTcGdBkFeNpCaNiNoTlMgMgLaNbNiAtMtRaNbOgClDsKrHeTbRaPCdNLiPdBrZnZnBkSiICeBiBiKBErFrBkXeZnGdErNeRgGaRgHeRgFmCnTlHgGaNbNhPdLrKNaKrCnAmErGeGdThTmCSeRgBhDbDyWCfSmFlBNeOBkPmUuePrCnCeTiBkFUueCdOYbYbLiEuEsBkHgGdLiMcNpYHfClFeMtCaXeNiErRgHoNiTbRaICuTmMgCoMgCdBhCeCnNeUArFrVErRhAuNpNpNpGeCnLvLaSrIrLuCfYbFlAcUCfInBSbAmSrBrCoVSiInSmOsTePtMoRfZnTaHPdSeAuVAsHgTeXeMgNbUueMtYDbOGdKrXeFmFHfRnHeMoDsCnMtOsBiPoSrNPdRgKrKKrHfF'))\n"
   ]
  },
  {
   "cell_type": "code",
   "execution_count": null,
   "metadata": {},
   "outputs": [],
   "source": []
  }
 ],
 "metadata": {
  "interpreter": {
   "hash": "5a12dac51fa352dbe5ea7731b1f0ed544497798ddc40f43cb594402174ba99a4"
  },
  "kernelspec": {
   "display_name": "Python 3.9.7 ('.venv': venv)",
   "language": "python",
   "name": "python3"
  },
  "language_info": {
   "codemirror_mode": {
    "name": "ipython",
    "version": 3
   },
   "file_extension": ".py",
   "mimetype": "text/x-python",
   "name": "python",
   "nbconvert_exporter": "python",
   "pygments_lexer": "ipython3",
   "version": "3.9.7"
  },
  "orig_nbformat": 4
 },
 "nbformat": 4,
 "nbformat_minor": 2
}
